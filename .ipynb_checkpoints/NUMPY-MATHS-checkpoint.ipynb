{
 "cells": [
  {
   "cell_type": "markdown",
   "id": "db80444f-5e48-4d20-a1ef-087f9770b134",
   "metadata": {},
   "source": [
    "**MATHEMATICS**"
   ]
  },
  {
   "cell_type": "code",
   "execution_count": 44,
   "id": "42d28b75-010d-4877-85e6-b3625924c76b",
   "metadata": {},
   "outputs": [],
   "source": [
    "first = np.array([1,2,3,4])"
   ]
  },
  {
   "cell_type": "code",
   "execution_count": 46,
   "id": "1cb1f329-839e-410a-a401-2f3b3074bf85",
   "metadata": {},
   "outputs": [
    {
     "name": "stdout",
     "output_type": "stream",
     "text": [
      "[1 2 3 4]\n"
     ]
    }
   ],
   "source": [
    "print(first)"
   ]
  },
  {
   "cell_type": "code",
   "execution_count": 49,
   "id": "ca9895b3-52cf-4118-96d6-29772fc0c498",
   "metadata": {},
   "outputs": [
    {
     "data": {
      "text/plain": [
       "array([3, 4, 5, 6])"
      ]
     },
     "execution_count": 49,
     "metadata": {},
     "output_type": "execute_result"
    }
   ],
   "source": [
    "first + 2"
   ]
  },
  {
   "cell_type": "code",
   "execution_count": 51,
   "id": "d5c65ae8-3e88-4048-8609-cab5b2ca8cbb",
   "metadata": {},
   "outputs": [
    {
     "data": {
      "text/plain": [
       "array([2, 4, 6, 8])"
      ]
     },
     "execution_count": 51,
     "metadata": {},
     "output_type": "execute_result"
    }
   ],
   "source": [
    "first * 2 "
   ]
  },
  {
   "cell_type": "code",
   "execution_count": 52,
   "id": "3affa3ef-0922-4014-8b60-8ec1c7ba2066",
   "metadata": {},
   "outputs": [
    {
     "data": {
      "text/plain": [
       "array([0.5, 1. , 1.5, 2. ])"
      ]
     },
     "execution_count": 52,
     "metadata": {},
     "output_type": "execute_result"
    }
   ],
   "source": [
    "first / 2"
   ]
  },
  {
   "cell_type": "code",
   "execution_count": 53,
   "id": "9012a15e-d065-4837-a9e3-560cba3ae0c6",
   "metadata": {},
   "outputs": [
    {
     "data": {
      "text/plain": [
       "array([-1,  0,  1,  2])"
      ]
     },
     "execution_count": 53,
     "metadata": {},
     "output_type": "execute_result"
    }
   ],
   "source": [
    "first - 2"
   ]
  },
  {
   "cell_type": "code",
   "execution_count": 66,
   "id": "55b98857-4659-454d-a2da-42e1789d5bcd",
   "metadata": {},
   "outputs": [
    {
     "name": "stdout",
     "output_type": "stream",
     "text": [
      "[6 6 9 7]\n",
      "[5 4 6 3]\n"
     ]
    }
   ],
   "source": [
    "second = np.array([5,4,6,3])\n",
    "print(first+second)\n",
    "print(second)"
   ]
  },
  {
   "cell_type": "code",
   "execution_count": 68,
   "id": "c118520c-0113-4b61-b4ac-08e1ad1b7fec",
   "metadata": {},
   "outputs": [
    {
     "data": {
      "text/plain": [
       "array([ 1,  4,  9, 16])"
      ]
     },
     "execution_count": 68,
     "metadata": {},
     "output_type": "execute_result"
    }
   ],
   "source": [
    "first ** 2"
   ]
  },
  {
   "cell_type": "code",
   "execution_count": 69,
   "id": "8481b577-aad8-4cea-a1dd-04fdc23201e6",
   "metadata": {},
   "outputs": [
    {
     "data": {
      "text/plain": [
       "array([ 0.84147098,  0.90929743,  0.14112001, -0.7568025 ])"
      ]
     },
     "execution_count": 69,
     "metadata": {},
     "output_type": "execute_result"
    }
   ],
   "source": [
    "np.sin(first)"
   ]
  },
  {
   "cell_type": "code",
   "execution_count": null,
   "id": "a74f8f85-b97f-4b4c-aebf-2c84ae19114f",
   "metadata": {},
   "outputs": [],
   "source": []
  }
 ],
 "metadata": {
  "kernelspec": {
   "display_name": "Python 3 (ipykernel)",
   "language": "python",
   "name": "python3"
  },
  "language_info": {
   "codemirror_mode": {
    "name": "ipython",
    "version": 3
   },
   "file_extension": ".py",
   "mimetype": "text/x-python",
   "name": "python",
   "nbconvert_exporter": "python",
   "pygments_lexer": "ipython3",
   "version": "3.10.12"
  }
 },
 "nbformat": 4,
 "nbformat_minor": 5
}
