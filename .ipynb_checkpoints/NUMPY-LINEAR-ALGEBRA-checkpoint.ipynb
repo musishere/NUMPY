{
 "cells": [
  {
   "cell_type": "markdown",
   "id": "0d52c921-4439-41dd-8d0b-34cef80398a8",
   "metadata": {},
   "source": [
    "** LINEAR ALGEBRA **"
   ]
  },
  {
   "cell_type": "code",
   "execution_count": 1,
   "id": "20fc1084-546a-446a-86e3-5c9358ea57b5",
   "metadata": {},
   "outputs": [],
   "source": [
    "import numpy as np"
   ]
  },
  {
   "cell_type": "code",
   "execution_count": 6,
   "id": "04956fd7-6a84-4a53-9fe9-afe0ed8b08a8",
   "metadata": {},
   "outputs": [
    {
     "name": "stdout",
     "output_type": "stream",
     "text": [
      "[[1. 1. 1.]\n",
      " [1. 1. 1.]]\n",
      "[[69 69]\n",
      " [69 69]\n",
      " [69 69]]\n"
     ]
    },
    {
     "data": {
      "text/plain": [
       "array([[207., 207.],\n",
       "       [207., 207.]])"
      ]
     },
     "execution_count": 6,
     "metadata": {},
     "output_type": "execute_result"
    }
   ],
   "source": [
    "a = np.ones((2,3))\n",
    "print(a)\n",
    "\n",
    "b = np.full((3,2),69)\n",
    "print(b)\n",
    "\n",
    "np.matmul(a,b)"
   ]
  },
  {
   "cell_type": "code",
   "execution_count": 10,
   "id": "d2360e44-ad7d-443e-8652-4b00c522f20b",
   "metadata": {},
   "outputs": [],
   "source": [
    "# Determinent\n",
    "c = np.identity(3)\n",
    "np.linalg.det(c)"
   ]
  },
  {
   "cell_type": "code",
   "execution_count": 12,
   "id": "afa73312-ea4f-42f6-8153-073bdba45553",
   "metadata": {},
   "outputs": [
    {
     "data": {
      "text/plain": [
       "array([[1, 2, 3],\n",
       "       [4, 5, 6]])"
      ]
     },
     "execution_count": 12,
     "metadata": {},
     "output_type": "execute_result"
    }
   ],
   "source": [
    "# Stats\n",
    "stats = np.array([[1,2,3],[4,5,6]])\n",
    "stats"
   ]
  },
  {
   "cell_type": "code",
   "execution_count": 15,
   "id": "3bf63705-a36c-4d50-98f4-b3fb401d783d",
   "metadata": {},
   "outputs": [
    {
     "data": {
      "text/plain": [
       "np.int64(1)"
      ]
     },
     "execution_count": 15,
     "metadata": {},
     "output_type": "execute_result"
    }
   ],
   "source": [
    "np.min(stats)"
   ]
  },
  {
   "cell_type": "code",
   "execution_count": null,
   "id": "383f4980-a7c5-4f62-b928-834418f40d66",
   "metadata": {},
   "outputs": [],
   "source": [
    "np.max(staticmethod)"
   ]
  }
 ],
 "metadata": {
  "kernelspec": {
   "display_name": "Python 3 (ipykernel)",
   "language": "python",
   "name": "python3"
  },
  "language_info": {
   "codemirror_mode": {
    "name": "ipython",
    "version": 3
   },
   "file_extension": ".py",
   "mimetype": "text/x-python",
   "name": "python",
   "nbconvert_exporter": "python",
   "pygments_lexer": "ipython3",
   "version": "3.10.12"
  }
 },
 "nbformat": 4,
 "nbformat_minor": 5
}
