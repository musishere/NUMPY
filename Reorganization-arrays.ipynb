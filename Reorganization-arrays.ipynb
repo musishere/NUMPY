{
 "cells": [
  {
   "cell_type": "markdown",
   "id": "1d09ef4f-a678-4c8d-8ad0-18ab26a10a8f",
   "metadata": {},
   "source": [
    "**Reorganizing Arrays**"
   ]
  },
  {
   "cell_type": "code",
   "execution_count": 2,
   "id": "8dff7f67-3607-4e89-a80a-fa6093c21090",
   "metadata": {},
   "outputs": [],
   "source": [
    "import numpy as np"
   ]
  },
  {
   "cell_type": "code",
   "execution_count": 5,
   "id": "d5fe5709-c0cb-4d7b-ad96-bc1baa4398ca",
   "metadata": {},
   "outputs": [
    {
     "name": "stdout",
     "output_type": "stream",
     "text": [
      "[[1 2 3 4]\n",
      " [5 6 7 8]]\n",
      "[[1]\n",
      " [2]\n",
      " [3]\n",
      " [4]\n",
      " [5]\n",
      " [6]\n",
      " [7]\n",
      " [8]]\n"
     ]
    }
   ],
   "source": [
    "before = np.array([[1,2,3,4],[5,6,7,8]])\n",
    "print (before)\n",
    "\n",
    "after = before.reshape((8,1))\n",
    "print(after)"
   ]
  },
  {
   "cell_type": "code",
   "execution_count": 7,
   "id": "35c8333f-60ab-4cc8-bb4e-bcd0305fbaea",
   "metadata": {},
   "outputs": [
    {
     "data": {
      "text/plain": [
       "array([[1, 2, 3],\n",
       "       [4, 5, 6]])"
      ]
     },
     "execution_count": 7,
     "metadata": {},
     "output_type": "execute_result"
    }
   ],
   "source": [
    "# Vertical Stacking\n",
    "v1 = np.array([1,2,3])\n",
    "v2 = np.array([4,5,6])\n",
    "\n",
    "np.vstack([v1,v2])"
   ]
  },
  {
   "cell_type": "code",
   "execution_count": 8,
   "id": "3daa7b74-5dc6-4f93-a60e-dd7303e410fe",
   "metadata": {},
   "outputs": [],
   "source": [
    "# Horizental stacking\n",
    "h1 = np.ones((2,3))\n",
    "h2 = np.zeros((2,2))\n",
    "\n",
    "np.hstack"
   ]
  }
 ],
 "metadata": {
  "kernelspec": {
   "display_name": "Python 3 (ipykernel)",
   "language": "python",
   "name": "python3"
  },
  "language_info": {
   "codemirror_mode": {
    "name": "ipython",
    "version": 3
   },
   "file_extension": ".py",
   "mimetype": "text/x-python",
   "name": "python",
   "nbconvert_exporter": "python",
   "pygments_lexer": "ipython3",
   "version": "3.10.12"
  }
 },
 "nbformat": 4,
 "nbformat_minor": 5
}
